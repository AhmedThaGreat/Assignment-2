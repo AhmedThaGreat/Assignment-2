{
 "cells": [
  {
   "cell_type": "code",
   "execution_count": 5,
   "id": "d36ef26a",
   "metadata": {
    "scrolled": false
   },
   "outputs": [
    {
     "name": "stdout",
     "output_type": "stream",
     "text": [
      "Please type a list of number seperated by commas\n",
      "11,2,3,61,4,2,1\n",
      "Sorted array:\n",
      "[11.0, 2.0, 3.0, 61.0, 4.0, 2.0, 1.0]\n",
      "[11.0, 2.0, 3.0]\n",
      "[11.0]\n",
      "[2.0, 3.0]\n",
      "[2.0]\n",
      "[3.0]\n",
      "[2.0, 3.0]\n",
      "[2.0, 3.0, 11.0]\n",
      "[61.0, 4.0, 2.0, 1.0]\n",
      "[61.0, 4.0]\n",
      "[61.0]\n",
      "[4.0]\n",
      "[4.0, 61.0]\n",
      "[2.0, 1.0]\n",
      "[2.0]\n",
      "[1.0]\n",
      "[1.0, 2.0]\n",
      "[1.0, 2.0, 4.0, 61.0]\n",
      "[1.0, 2.0, 2.0, 3.0, 4.0, 11.0, 61.0]\n"
     ]
    },
    {
     "data": {
      "text/plain": [
       "[1.0, 2.0, 2.0, 3.0, 4.0, 11.0, 61.0]"
      ]
     },
     "execution_count": 5,
     "metadata": {},
     "output_type": "execute_result"
    }
   ],
   "source": [
    "from IPython.display import display, clear_output\n",
    "import time\n",
    "import pygame\n",
    "\n",
    "pygame.mixer.init()\n",
    "sound_effect = pygame.mixer.Sound('sound.mp3')\n",
    "    \n",
    "# Merge sort helper function\n",
    "def merge(a, b):\n",
    "    c = list()\n",
    "    \n",
    "    while len(a) >= 1 and len(b) >= 1:\n",
    "        #time.sleep(1)\n",
    "        if a[0] > b[0]:\n",
    "            c.append(b[0])\n",
    "            sound_effect.play()\n",
    "            b.remove(b[0])\n",
    "        else:\n",
    "            c.append(a[0])\n",
    "            a.remove(a[0])\n",
    "        #print(c)\n",
    "    \n",
    "    while len(a) >= 1:\n",
    "        c.append(a[0])\n",
    "        a.remove(a[0])\n",
    "        #print(c)\n",
    "        #time.sleep(1)\n",
    "\n",
    "    while len(b) >= 1:\n",
    "        c.append(b[0])\n",
    "        b.remove(b[0])\n",
    "        #print(c)\n",
    "        #time.sleep(1)\n",
    "    \n",
    "    print(c)\n",
    "    time.sleep(1)\n",
    "    return c\n",
    "\n",
    "def mergeSort(arr):\n",
    "    time.sleep(1)\n",
    "    print(arr)\n",
    "    if len(arr) == 1:\n",
    "        return arr\n",
    "    \n",
    "    mid = len(arr) // 2\n",
    "    L = arr[:mid]\n",
    "    R = arr[mid:]\n",
    "    \n",
    "    L = mergeSort(L)\n",
    "    R = mergeSort(R)\n",
    "    \n",
    "    return merge(L, R)\n",
    "\n",
    "# User input function\n",
    "def clean_arr(arr):\n",
    "    out_arr = list()\n",
    "    for i in '[](){}':\n",
    "        arr = arr.replace(i,'')\n",
    "    arr = arr.split(',')\n",
    "    for i in arr:\n",
    "        out_arr.append(float(i))\n",
    "    return out_arr\n",
    "\n",
    "# User inputs\n",
    "print('Please type a list of number seperated by commas')\n",
    "arr = clean_arr(input())\n",
    "\n",
    "# Sort input array, printing output and playing soundeffects\n",
    "print('Sorted array:')\n",
    "mergeSort(arr)"
   ]
  },
  {
   "cell_type": "code",
   "execution_count": null,
   "id": "b6158115",
   "metadata": {},
   "outputs": [],
   "source": []
  },
  {
   "cell_type": "code",
   "execution_count": null,
   "id": "f20cf350",
   "metadata": {},
   "outputs": [],
   "source": []
  }
 ],
 "metadata": {
  "kernelspec": {
   "display_name": "Python 3 (ipykernel)",
   "language": "python",
   "name": "python3"
  },
  "language_info": {
   "codemirror_mode": {
    "name": "ipython",
    "version": 3
   },
   "file_extension": ".py",
   "mimetype": "text/x-python",
   "name": "python",
   "nbconvert_exporter": "python",
   "pygments_lexer": "ipython3",
   "version": "3.11.5"
  }
 },
 "nbformat": 4,
 "nbformat_minor": 5
}
